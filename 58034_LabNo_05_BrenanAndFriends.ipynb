{
  "nbformat": 4,
  "nbformat_minor": 0,
  "metadata": {
    "colab": {
      "name": "58034_LabNo.05_BrenanAndFriends.ipynb",
      "provenance": [],
      "collapsed_sections": [],
      "include_colab_link": true
    },
    "kernelspec": {
      "name": "python3",
      "display_name": "Python 3"
    },
    "language_info": {
      "name": "python"
    }
  },
  "cells": [
    {
      "cell_type": "markdown",
      "metadata": {
        "id": "view-in-github",
        "colab_type": "text"
      },
      "source": [
        "<a href=\"https://colab.research.google.com/github/jamesmattluyon/CpE-AIML/blob/main/58034_LabNo_05_BrenanAndFriends.ipynb\" target=\"_parent\"><img src=\"https://colab.research.google.com/assets/colab-badge.svg\" alt=\"Open In Colab\"/></a>"
      ]
    },
    {
      "cell_type": "markdown",
      "metadata": {
        "id": "m1Evgke-ClXZ"
      },
      "source": [
        "# Topic 05.1: Classification\n",
        "$_{\\text{©D.J. Lopez | 2021 | Fundamentals of Machine Learning}}$\n"
      ]
    },
    {
      "cell_type": "markdown",
      "metadata": {
        "id": "TLzh0eoBgRPz"
      },
      "source": [
        "## Laboratory Activity\n",
        "1. For the laboratory activity, obtain a dataset of your liking from a data source. Explain the purpose of the dataset and mention any publication if it is obtained from the source. Provide a needs statement and significance for the dataset.\n",
        "\n",
        "2. Identify an algorithm or method in performing a single variable classification using least squares or logistic regression. \n",
        "\n",
        "3. Present your solution implementing your algorithm of choice. You may use any library or package in this section. However, you are required to observe the following:\n",
        "\n",
        ">* Enforce object-oriented programming by implementing at least two of the pillars of OOP in the entirety of the solution.\n",
        "* Dedicated functions for training, predicting, and evaluating the solution.\n",
        "* A DataFrame of the metrics of the solution\n",
        "* A visualization of the solution’s results.\n"
      ]
    },
    {
      "cell_type": "markdown",
      "metadata": {
        "id": "ZUGPTva0KkiA"
      },
      "source": [
        "#Part 1"
      ]
    },
    {
      "cell_type": "markdown",
      "metadata": {
        "id": "SL4xSAL_AvDH"
      },
      "source": [
        "The chosen dataset provides information about the fraudalent credit card transactions (roughly 28,500 credit card transactions). Then, using Logistic Regression, we'll find transactions with a high likelihood of being fraudulent. As we all know, it's critical for credit card companies to spot fraudulent credit card transactions in order to prevent charging customers for products they didn't buy and to keep their money safe. This allows them to build trust with their clients. Machine learning algorithms are being developed and implemented across the financial sector to detect fraudulent transactions.\n",
        "\n",
        "\n",
        "\n",
        "The dataset covers credit card transactions done by European cardholders in September 2013. In this dataset, 492 frauds out of 284,807 have found in transactions that occurred in the last two days. The dataset is heavily skewed, with the positive class (frauds) accounting for only 0.172 percent of all transactions.\n",
        "\n",
        " \n",
        "\n",
        "Dataset Link – https://www.kaggle.com/mlg-ulb/creditcardfraud.\n",
        "\n",
        "\n"
      ]
    },
    {
      "cell_type": "markdown",
      "metadata": {
        "id": "nHaS_BF-LLWl"
      },
      "source": [
        "#Part 2\n"
      ]
    },
    {
      "cell_type": "markdown",
      "metadata": {
        "id": "rTWxtigm8c4Q"
      },
      "source": [
        "### Decision Tree Model \n",
        "\n",
        "The Decision Tree Model library in python is a free. For both classification and regression applications, decision trees are a non-parametric supervised learning approach. The goal of the approach is to create decision tree models that predict the target variable using a set of features/input variables.\n",
        "\n",
        "#### *Algorithm*\n",
        "*   To use Decision Tree Model to feed a dataset, containing a number of training instances, with a set of features and a target.\n",
        "*   To develop the model, we started with a decision tree and utilized the 'DecisionTreeClassifier' technique. We set the'max depth' to '4' in the algorithm, which means we allow the tree to split four times, and the 'criterion' to 'entropy,' which is similar to'max depth' but determines when to stop splitting the tree. Finally, we've fitted the expected values into the 'tree yhat' variable and saved them."
      ]
    },
    {
      "cell_type": "code",
      "metadata": {
        "id": "Byxiq5kHtVxZ"
      },
      "source": [
        "from sklearn.tree import DecisionTreeClassifier # Decision tree algorithm\n",
        "from termcolor import colored as cl # text customization\n",
        "from sklearn.preprocessing import StandardScaler # data normalization\n",
        "from sklearn.metrics import accuracy_score # evaluation metric\n",
        "import itertools # advanced tools\n",
        "from sklearn.model_selection import train_test_split"
      ],
      "execution_count": null,
      "outputs": []
    },
    {
      "cell_type": "code",
      "metadata": {
        "colab": {
          "base_uri": "https://localhost:8080/"
        },
        "id": "topVPOYV--pV",
        "outputId": "29e4daf9-0eed-4edb-a39b-f5a8e8179bde"
      },
      "source": [
        "df = pd.read_csv('/content/creditcard.csv')\n",
        "df.drop('Time', axis = 1, inplace = True)\n",
        "\n",
        "print(df.head())"
      ],
      "execution_count": null,
      "outputs": [
        {
          "output_type": "stream",
          "name": "stdout",
          "text": [
            "         V1        V2        V3        V4  ...       V27       V28  Amount  Class\n",
            "0 -1.359807 -0.072781  2.536347  1.378155  ...  0.133558 -0.021053  149.62      0\n",
            "1  1.191857  0.266151  0.166480  0.448154  ... -0.008983  0.014724    2.69      0\n",
            "2 -1.358354 -1.340163  1.773209  0.379780  ... -0.055353 -0.059752  378.66      0\n",
            "3 -0.966272 -0.185226  1.792993 -0.863291  ...  0.062723  0.061458  123.50      0\n",
            "4 -1.158233  0.877737  1.548718  0.403034  ...  0.219422  0.215153   69.99      0\n",
            "\n",
            "[5 rows x 30 columns]\n"
          ]
        }
      ]
    },
    {
      "cell_type": "code",
      "metadata": {
        "colab": {
          "base_uri": "https://localhost:8080/"
        },
        "id": "UdNHy7Bz_I8S",
        "outputId": "30ab6b29-09c5-480e-ff3f-b075aed6e537"
      },
      "source": [
        "cases = len(df)\n",
        "nonfraud_count = len(df[df.Class == 0])\n",
        "fraud_count = len(df[df.Class == 1])\n",
        "fraud_percentage = round(fraud_count/nonfraud_count*100, 2)\n",
        "\n",
        "print(cl('CASE COUNT', attrs = ['bold']))\n",
        "print(cl('--------------------------------------------', attrs = ['bold']))\n",
        "print(cl('Total number of cases are {}'.format(cases), attrs = ['bold']))\n",
        "print(cl('Number of Non-fraud cases are {}'.format(nonfraud_count), attrs = ['bold']))\n",
        "print(cl('Number of Non-fraud cases are {}'.format(fraud_count), attrs = ['bold']))\n",
        "print(cl('Percentage of fraud cases is {}'.format(fraud_percentage), attrs = ['bold']))\n",
        "print(cl('--------------------------------------------', attrs = ['bold']))"
      ],
      "execution_count": null,
      "outputs": [
        {
          "output_type": "stream",
          "name": "stdout",
          "text": [
            "\u001b[1mCASE COUNT\u001b[0m\n",
            "\u001b[1m--------------------------------------------\u001b[0m\n",
            "\u001b[1mTotal number of cases are 284807\u001b[0m\n",
            "\u001b[1mNumber of Non-fraud cases are 284315\u001b[0m\n",
            "\u001b[1mNumber of Non-fraud cases are 492\u001b[0m\n",
            "\u001b[1mPercentage of fraud cases is 0.17\u001b[0m\n",
            "\u001b[1m--------------------------------------------\u001b[0m\n"
          ]
        }
      ]
    },
    {
      "cell_type": "code",
      "metadata": {
        "colab": {
          "base_uri": "https://localhost:8080/"
        },
        "id": "I3A26xAI_a_r",
        "outputId": "046f7f2a-10c1-481b-c918-eddae4a4f7a2"
      },
      "source": [
        "nonfraud_cases = df[df.Class == 0]\n",
        "fraud_cases = df[df.Class == 1]\n",
        "\n",
        "print(cl('CASE AMOUNT STATISTICS', attrs = ['bold']))\n",
        "print(cl('--------------------------------------------', attrs = ['bold']))\n",
        "print(cl('NON-FRAUD CASE AMOUNT STATS', attrs = ['bold']))\n",
        "print(nonfraud_cases.Amount.describe())\n",
        "print(cl('--------------------------------------------', attrs = ['bold']))\n",
        "print(cl('FRAUD CASE AMOUNT STATS', attrs = ['bold']))\n",
        "print(fraud_cases.Amount.describe())\n",
        "print(cl('--------------------------------------------', attrs = ['bold']))"
      ],
      "execution_count": null,
      "outputs": [
        {
          "output_type": "stream",
          "name": "stdout",
          "text": [
            "\u001b[1mCASE AMOUNT STATISTICS\u001b[0m\n",
            "\u001b[1m--------------------------------------------\u001b[0m\n",
            "\u001b[1mNON-FRAUD CASE AMOUNT STATS\u001b[0m\n",
            "count    284315.000000\n",
            "mean         88.291022\n",
            "std         250.105092\n",
            "min           0.000000\n",
            "25%           5.650000\n",
            "50%          22.000000\n",
            "75%          77.050000\n",
            "max       25691.160000\n",
            "Name: Amount, dtype: float64\n",
            "\u001b[1m--------------------------------------------\u001b[0m\n",
            "\u001b[1mFRAUD CASE AMOUNT STATS\u001b[0m\n",
            "count     492.000000\n",
            "mean      122.211321\n",
            "std       256.683288\n",
            "min         0.000000\n",
            "25%         1.000000\n",
            "50%         9.250000\n",
            "75%       105.890000\n",
            "max      2125.870000\n",
            "Name: Amount, dtype: float64\n",
            "\u001b[1m--------------------------------------------\u001b[0m\n"
          ]
        }
      ]
    },
    {
      "cell_type": "code",
      "metadata": {
        "colab": {
          "base_uri": "https://localhost:8080/"
        },
        "id": "wOXsmX6P_fZi",
        "outputId": "10d8f2ba-e461-4ce7-ed2b-6a4edb402154"
      },
      "source": [
        "sc = StandardScaler()\n",
        "amount = df['Amount'].values\n",
        "\n",
        "df['Amount'] = sc.fit_transform(amount.reshape(-1, 1))\n",
        "\n",
        "print(cl(df['Amount'].head(10), attrs = ['bold']))"
      ],
      "execution_count": null,
      "outputs": [
        {
          "output_type": "stream",
          "name": "stdout",
          "text": [
            "\u001b[1m0    0.244964\n",
            "1   -0.342475\n",
            "2    1.160686\n",
            "3    0.140534\n",
            "4   -0.073403\n",
            "5   -0.338556\n",
            "6   -0.333279\n",
            "7   -0.190107\n",
            "8    0.019392\n",
            "9   -0.338516\n",
            "Name: Amount, dtype: float64\u001b[0m\n"
          ]
        }
      ]
    },
    {
      "cell_type": "code",
      "metadata": {
        "colab": {
          "base_uri": "https://localhost:8080/"
        },
        "id": "ce-7J7zv_veb",
        "outputId": "d1f7e617-6429-40cf-fce7-dae0a2e2d3bd"
      },
      "source": [
        "X = df.drop('Class', axis = 1).values\n",
        "y = df['Class'].values\n",
        "\n",
        "X_train, X_test, y_train, y_test = train_test_split(X, y, test_size = 0.2, random_state = 0)\n",
        "\n",
        "print(cl('X_train samples : ', attrs = ['bold']), X_train[:1])\n",
        "print(cl('X_test samples : ', attrs = ['bold']), X_test[0:1])\n",
        "print(cl('y_train samples : ', attrs = ['bold']), y_train[0:20])\n",
        "print(cl('y_test samples : ', attrs = ['bold']), y_test[0:20])"
      ],
      "execution_count": null,
      "outputs": [
        {
          "output_type": "stream",
          "name": "stdout",
          "text": [
            "\u001b[1mX_train samples : \u001b[0m [[-1.11504743  1.03558276  0.80071244 -1.06039825  0.03262117  0.85342216\n",
            "  -0.61424348 -3.23116112  1.53994798 -0.81690879 -1.30559201  0.1081772\n",
            "  -0.85960958 -0.07193421  0.90665563 -1.72092961  0.79785322 -0.0067594\n",
            "   1.95677806 -0.64489556  3.02038533 -0.53961798  0.03315649 -0.77494577\n",
            "   0.10586781 -0.43085348  0.22973694 -0.0705913  -0.30145418]]\n",
            "\u001b[1mX_test samples : \u001b[0m [[-0.32333357  1.05745525 -0.04834115 -0.60720431  1.25982115 -0.09176072\n",
            "   1.1591015  -0.12433461 -0.17463954 -1.64440065 -1.11886302  0.20264731\n",
            "   1.14596495 -1.80235956 -0.24717793 -0.06094535  0.84660574  0.37945439\n",
            "   0.84726224  0.18640942 -0.20709827 -0.43389027 -0.26161328 -0.04665061\n",
            "   0.2115123   0.00829721  0.10849443  0.16113917 -0.19330595]]\n",
            "\u001b[1my_train samples : \u001b[0m [0 0 0 0 0 0 0 0 0 0 0 0 0 0 0 0 0 0 0 0]\n",
            "\u001b[1my_test samples : \u001b[0m [0 0 0 0 0 0 0 0 0 0 0 0 0 0 0 0 0 0 0 0]\n"
          ]
        }
      ]
    },
    {
      "cell_type": "code",
      "metadata": {
        "id": "f7DXzibF_6yC",
        "colab": {
          "base_uri": "https://localhost:8080/"
        },
        "outputId": "d2adec4c-f597-42d6-9b6a-b8e7e00df410"
      },
      "source": [
        "#Decision Tree\n",
        "\n",
        "tree_model = DecisionTreeClassifier(max_depth = 4, criterion = 'entropy')\n",
        "tree_model.fit(X_train, y_train)\n",
        "tree_yhat = tree_model.predict(X_test)\n",
        "\n",
        "print(cl('Accuracy score of the Decision Tree model is {}'.format(accuracy_score(y_test, tree_yhat)), attrs = ['bold']))"
      ],
      "execution_count": null,
      "outputs": [
        {
          "output_type": "stream",
          "name": "stdout",
          "text": [
            "\u001b[1mAccuracy score of the Decision Tree model is 0.9993679997191109\u001b[0m\n"
          ]
        }
      ]
    },
    {
      "cell_type": "code",
      "metadata": {
        "id": "5QVk2LMWAwy6",
        "colab": {
          "base_uri": "https://localhost:8080/",
          "height": 428
        },
        "outputId": "06638f87-bbfc-4e78-857b-0938fd6b2edc"
      },
      "source": [
        "# Confusion Matrix\n",
        "def plot_confusion_matrix(cm, classes, title, normalize = False, cmap = plt.cm.Blues):\n",
        "    title = 'Confusion Matrix of {}'.format(title)\n",
        "    if normalize:\n",
        "        cm = cm.astype(float) / cm.sum(axis=1)[:, np.newaxis]\n",
        "\n",
        "    plt.imshow(cm, interpolation = 'nearest', cmap = cmap)\n",
        "    plt.title(title)\n",
        "    plt.colorbar()\n",
        "    tick_marks = np.arange(len(classes))\n",
        "    plt.xticks(tick_marks, classes, rotation = 45)\n",
        "    plt.yticks(tick_marks, classes)\n",
        "\n",
        "    fmt = '.2f' if normalize else 'd'\n",
        "    thresh = cm.max() / 2.\n",
        "    for i, j in itertools.product(range(cm.shape[0]), range(cm.shape[1])):\n",
        "        plt.text(j, i, format(cm[i, j], fmt),\n",
        "                 horizontalalignment = 'center',\n",
        "                 color = 'white' if cm[i, j] > thresh else 'black')\n",
        "\n",
        "    plt.tight_layout()\n",
        "    plt.ylabel('True label')\n",
        "    plt.xlabel('Predicted label')\n",
        "\n",
        "# Compute confusion matrix for the models\n",
        "\n",
        "tree_matrix = confusion_matrix(y_test, tree_yhat, labels = [0, 1]) # Decision Tree\n",
        "\n",
        "# Plot the confusion matrix\n",
        "\n",
        "plt.rcParams['figure.figsize'] = (6, 6)\n",
        "\n",
        "# 1. Decision tree\n",
        "\n",
        "tree_cm_plot = plot_confusion_matrix(tree_matrix, \n",
        "                                classes = ['Non-Default(0)','Default(1)'], \n",
        "                                normalize = False, title = 'Decision Tree')\n",
        "plt.savefig('tree_cm_plot.png')\n",
        "plt.show()"
      ],
      "execution_count": null,
      "outputs": [
        {
          "output_type": "display_data",
          "data": {
            "image/png": "[encoded data removed]",
            "text/plain": [
              "<Figure size 432x432 with 2 Axes>"
            ]
          },
          "metadata": {
            "needs_background": "light"
          }
        }
      ]
    },
    {
      "cell_type": "markdown",
      "metadata": {
        "id": "PFyjrEchLOeF"
      },
      "source": [
        "#Part 3\n",
        "\n",
        "### *Solution*"
      ]
    },
    {
      "cell_type": "code",
      "metadata": {
        "id": "bhHdKPNoLQOd"
      },
      "source": [
        "import numpy as np\n",
        "import pandas as pd\n",
        "import seaborn as sns\n",
        "from sklearn.metrics import confusion_matrix\n",
        "from sklearn import metrics\n",
        "from matplotlib import pyplot as plt\n",
        "from sklearn.linear_model import LogisticRegression"
      ],
      "execution_count": null,
      "outputs": []
    },
    {
      "cell_type": "code",
      "metadata": {
        "id": "eMd1TrEVLZJM"
      },
      "source": [
        "class LogistRegression():\n",
        "\n",
        "  def train(self, X, y): \n",
        "    self.model_ = LogisticRegression(random_state=0).fit(X, y)\n",
        "    return self.model_\n",
        "  \n",
        "  def predict(self, x):\n",
        "    self.predictions = self.model_.predict(x)\n",
        "    df = pd.DataFrame(self.predictions, columns = ['ouput'])\n",
        "    return df.value_counts(), df\n",
        "\n",
        "  def intercepts(self, X):\n",
        "    return self.model_.intercept_\n",
        "\n",
        "  def coefficients(self, x):\n",
        "    return self.model_.coef_\n",
        "\n",
        "  def evaluate(self, X, y):\n",
        "    preds = self.predictions\n",
        "    dataframe = {'Metrics Value': {\n",
        "          'Accuracy': metrics.accuracy_score(y, preds),\n",
        "          'Precision': metrics.precision_score(y, preds),\n",
        "          'Recall': metrics.recall_score(y,preds),\n",
        "          'F1-Score': metrics.f1_score(y, preds),\n",
        "          'L2 Error': np.sqrt(np.sum(np.square(y - preds)))\n",
        "      }  \n",
        "    }\n",
        "    df = pd.DataFrame(dataframe)\n",
        "    return df\n",
        "\n",
        "  def visualize(self, X, y):\n",
        "    plt.figure(figsize=(5.43,5))\n",
        "    plt.scatter(X, y, color='red')\n",
        "    plt.scatter(X, self.predictions, color='green')\n",
        "    plt.grid()\n",
        "    plt.figure(figsize=(5,5))\n",
        "    conf_mat = confusion_matrix(y, self.predictions)\n",
        "    sns.heatmap(conf_mat, annot=True)\n",
        "    plt.xlabel(\"Predicted\")\n",
        "    plt.ylabel(\"Ground Truth\")\n",
        "    return plt.show()"
      ],
      "execution_count": null,
      "outputs": []
    },
    {
      "cell_type": "code",
      "metadata": {
        "id": "-Z5VRZBNNXOR"
      },
      "source": [
        "df = pd.read_csv('/content/creditcard.csv')\n",
        "df.fillna(0)\n",
        "np.any(np.isnan(df))\n",
        "df = df.reset_index()"
      ],
      "execution_count": null,
      "outputs": []
    },
    {
      "cell_type": "code",
      "metadata": {
        "id": "rOKyf3kYT9cL"
      },
      "source": [
        "X = df['V1'].to_numpy().reshape((-1,1))\n",
        "y = df['Class'].to_numpy()"
      ],
      "execution_count": null,
      "outputs": []
    },
    {
      "cell_type": "code",
      "metadata": {
        "id": "DaLKwjL7UJnV"
      },
      "source": [
        "logit = LogistRegression()"
      ],
      "execution_count": null,
      "outputs": []
    },
    {
      "cell_type": "code",
      "metadata": {
        "id": "YIy2THC-WCY4",
        "colab": {
          "base_uri": "https://localhost:8080/"
        },
        "outputId": "a9581a05-b5b3-45bc-95ea-3acc206b738c"
      },
      "source": [
        "logit.train(X,y)"
      ],
      "execution_count": null,
      "outputs": [
        {
          "output_type": "execute_result",
          "data": {
            "text/plain": [
              "LogisticRegression(random_state=0)"
            ]
          },
          "metadata": {},
          "execution_count": 117
        }
      ]
    },
    {
      "cell_type": "code",
      "metadata": {
        "id": "MRVG2NJ7cdsu",
        "colab": {
          "base_uri": "https://localhost:8080/"
        },
        "outputId": "03772cb8-3607-4b9e-8f0d-2b33ee0def08"
      },
      "source": [
        "logit.predict(X)"
      ],
      "execution_count": null,
      "outputs": [
        {
          "output_type": "execute_result",
          "data": {
            "text/plain": [
              "(ouput\n",
              " 0        284770\n",
              " 1            37\n",
              " dtype: int64,         ouput\n",
              " 0           0\n",
              " 1           0\n",
              " 2           0\n",
              " 3           0\n",
              " 4           0\n",
              " ...       ...\n",
              " 284802      0\n",
              " 284803      0\n",
              " 284804      0\n",
              " 284805      0\n",
              " 284806      0\n",
              " \n",
              " [284807 rows x 1 columns])"
            ]
          },
          "metadata": {},
          "execution_count": 118
        }
      ]
    },
    {
      "cell_type": "code",
      "metadata": {
        "id": "FgroY9GzgwtW",
        "colab": {
          "base_uri": "https://localhost:8080/"
        },
        "outputId": "9b1d3fb7-5331-4426-9a22-532cdf539e0e"
      },
      "source": [
        "logit.intercepts(X)"
      ],
      "execution_count": null,
      "outputs": [
        {
          "output_type": "execute_result",
          "data": {
            "text/plain": [
              "array([-6.60760808])"
            ]
          },
          "metadata": {},
          "execution_count": 119
        }
      ]
    },
    {
      "cell_type": "code",
      "metadata": {
        "id": "9sZLN0lRgvRG",
        "colab": {
          "base_uri": "https://localhost:8080/"
        },
        "outputId": "352ec319-b1e7-4662-dd4b-ecc2b6be8b1e"
      },
      "source": [
        "logit.coefficients(X)"
      ],
      "execution_count": null,
      "outputs": [
        {
          "output_type": "execute_result",
          "data": {
            "text/plain": [
              "array([[-0.22460045]])"
            ]
          },
          "metadata": {},
          "execution_count": 120
        }
      ]
    },
    {
      "cell_type": "code",
      "metadata": {
        "id": "2jJZ_jZigb-s",
        "colab": {
          "base_uri": "https://localhost:8080/",
          "height": 206
        },
        "outputId": "8a5d42ad-c7c3-46ce-9fea-97f565bb100a"
      },
      "source": [
        "logit.evaluate(X,y)"
      ],
      "execution_count": null,
      "outputs": [
        {
          "output_type": "execute_result",
          "data": {
            "text/html": [
              "<div>\n",
              "<style scoped>\n",
              "    .dataframe tbody tr th:only-of-type {\n",
              "        vertical-align: middle;\n",
              "    }\n",
              "\n",
              "    .dataframe tbody tr th {\n",
              "        vertical-align: top;\n",
              "    }\n",
              "\n",
              "    .dataframe thead th {\n",
              "        text-align: right;\n",
              "    }\n",
              "</style>\n",
              "<table border=\"1\" class=\"dataframe\">\n",
              "  <thead>\n",
              "    <tr style=\"text-align: right;\">\n",
              "      <th></th>\n",
              "      <th>Metrics Value</th>\n",
              "    </tr>\n",
              "  </thead>\n",
              "  <tbody>\n",
              "    <tr>\n",
              "      <th>Accuracy</th>\n",
              "      <td>0.998157</td>\n",
              "    </tr>\n",
              "    <tr>\n",
              "      <th>F1-Score</th>\n",
              "      <td>0.007561</td>\n",
              "    </tr>\n",
              "    <tr>\n",
              "      <th>L2 Error</th>\n",
              "      <td>22.912878</td>\n",
              "    </tr>\n",
              "    <tr>\n",
              "      <th>Precision</th>\n",
              "      <td>0.054054</td>\n",
              "    </tr>\n",
              "    <tr>\n",
              "      <th>Recall</th>\n",
              "      <td>0.004065</td>\n",
              "    </tr>\n",
              "  </tbody>\n",
              "</table>\n",
              "</div>"
            ],
            "text/plain": [
              "           Metrics Value\n",
              "Accuracy        0.998157\n",
              "F1-Score        0.007561\n",
              "L2 Error       22.912878\n",
              "Precision       0.054054\n",
              "Recall          0.004065"
            ]
          },
          "metadata": {},
          "execution_count": 121
        }
      ]
    },
    {
      "cell_type": "code",
      "metadata": {
        "id": "qAjjZuf6g3XW",
        "colab": {
          "base_uri": "https://localhost:8080/",
          "height": 637
        },
        "outputId": "afb07e3b-efdd-4737-91b9-195d1020ac2e"
      },
      "source": [
        "logit.visualize(X,y)"
      ],
      "execution_count": null,
      "outputs": [
        {
          "output_type": "display_data",
          "data": {
            "image/png": "[encoded data removed]",
            "text/plain": [
              "<Figure size 390.96x360 with 1 Axes>"
            ]
          },
          "metadata": {
            "needs_background": "light"
          }
        },
        {
          "output_type": "display_data",
          "data": {
            "image/png": "[encoded data removed]",
            "text/plain": [
              "<Figure size 360x360 with 2 Axes>"
            ]
          },
          "metadata": {
            "needs_background": "light"
          }
        }
      ]
    },
    {
      "cell_type": "markdown",
      "source": [
        "The plot above shows the relationship between the ground truth and predicted values. The vertical heat scale is the basis of the corresponding correlation for each variable. The 0 and 1 values corresponds to the possibility of fraudelent activity of credit card transactions where 0 has no fraudelent possibility while 1 has the possibility of fraudelent activity. According to the concluded truth from the dataset, there has been little to no detected fraudelent activity. This resulted to no fraudelent predictions in the future detected by the algorithm."
      ],
      "metadata": {
        "id": "1VoiAD-fbXsT"
      }
    }
  ]
}