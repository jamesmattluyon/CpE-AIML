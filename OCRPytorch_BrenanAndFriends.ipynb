{
  "nbformat": 4,
  "nbformat_minor": 0,
  "metadata": {
    "colab": {
      "name": "OCRPytorch_BrenanAndFriends.ipynb",
      "provenance": [],
      "collapsed_sections": [],
      "authorship_tag": "ABX9TyMgaetpqlbq/E7YqPnNvAoH",
      "include_colab_link": true
    },
    "kernelspec": {
      "name": "python3",
      "display_name": "Python 3"
    },
    "language_info": {
      "name": "python"
    }
  },
  "cells": [
    {
      "cell_type": "markdown",
      "metadata": {
        "id": "view-in-github",
        "colab_type": "text"
      },
      "source": [
        "<a href=\"https://colab.research.google.com/github/jamesmattluyon/CpE-AIML/blob/main/OCRPytorch_BrenanAndFriends.ipynb\" target=\"_parent\"><img src=\"https://colab.research.google.com/assets/colab-badge.svg\" alt=\"Open In Colab\"/></a>"
      ]
    },
    {
      "cell_type": "code",
      "execution_count": null,
      "metadata": {
        "colab": {
          "base_uri": "https://localhost:8080/"
        },
        "id": "tZTgIa418pSD",
        "outputId": "f2a528f0-66a9-484e-b77a-8252fb1f8eac"
      },
      "outputs": [
        {
          "output_type": "stream",
          "name": "stdout",
          "text": [
            "Collecting easyocr\n",
            "  Downloading easyocr-1.4.1-py3-none-any.whl (63.6 MB)\n",
            "\u001b[K     |████████████████████████████████| 63.6 MB 36 kB/s \n",
            "\u001b[?25hRequirement already satisfied: scipy in /usr/local/lib/python3.7/dist-packages (from easyocr) (1.4.1)\n",
            "Requirement already satisfied: scikit-image in /usr/local/lib/python3.7/dist-packages (from easyocr) (0.18.3)\n",
            "Collecting python-bidi\n",
            "  Downloading python_bidi-0.4.2-py2.py3-none-any.whl (30 kB)\n",
            "Requirement already satisfied: Pillow<8.3.0 in /usr/local/lib/python3.7/dist-packages (from easyocr) (7.1.2)\n",
            "Collecting opencv-python-headless\n",
            "  Downloading opencv_python_headless-4.5.4.60-cp37-cp37m-manylinux_2_17_x86_64.manylinux2014_x86_64.whl (47.6 MB)\n",
            "\u001b[K     |████████████████████████████████| 47.6 MB 1.5 MB/s \n",
            "\u001b[?25hRequirement already satisfied: PyYAML in /usr/local/lib/python3.7/dist-packages (from easyocr) (3.13)\n",
            "Requirement already satisfied: numpy in /usr/local/lib/python3.7/dist-packages (from easyocr) (1.19.5)\n",
            "Requirement already satisfied: torchvision>=0.5 in /usr/local/lib/python3.7/dist-packages (from easyocr) (0.11.1+cu111)\n",
            "Requirement already satisfied: torch in /usr/local/lib/python3.7/dist-packages (from easyocr) (1.10.0+cu111)\n",
            "Requirement already satisfied: typing-extensions in /usr/local/lib/python3.7/dist-packages (from torch->easyocr) (3.10.0.2)\n",
            "Requirement already satisfied: six in /usr/local/lib/python3.7/dist-packages (from python-bidi->easyocr) (1.15.0)\n",
            "Requirement already satisfied: PyWavelets>=1.1.1 in /usr/local/lib/python3.7/dist-packages (from scikit-image->easyocr) (1.2.0)\n",
            "Requirement already satisfied: matplotlib!=3.0.0,>=2.0.0 in /usr/local/lib/python3.7/dist-packages (from scikit-image->easyocr) (3.2.2)\n",
            "Requirement already satisfied: tifffile>=2019.7.26 in /usr/local/lib/python3.7/dist-packages (from scikit-image->easyocr) (2021.11.2)\n",
            "Requirement already satisfied: imageio>=2.3.0 in /usr/local/lib/python3.7/dist-packages (from scikit-image->easyocr) (2.4.1)\n",
            "Requirement already satisfied: networkx>=2.0 in /usr/local/lib/python3.7/dist-packages (from scikit-image->easyocr) (2.6.3)\n",
            "Requirement already satisfied: pyparsing!=2.0.4,!=2.1.2,!=2.1.6,>=2.0.1 in /usr/local/lib/python3.7/dist-packages (from matplotlib!=3.0.0,>=2.0.0->scikit-image->easyocr) (3.0.6)\n",
            "Requirement already satisfied: python-dateutil>=2.1 in /usr/local/lib/python3.7/dist-packages (from matplotlib!=3.0.0,>=2.0.0->scikit-image->easyocr) (2.8.2)\n",
            "Requirement already satisfied: cycler>=0.10 in /usr/local/lib/python3.7/dist-packages (from matplotlib!=3.0.0,>=2.0.0->scikit-image->easyocr) (0.11.0)\n",
            "Requirement already satisfied: kiwisolver>=1.0.1 in /usr/local/lib/python3.7/dist-packages (from matplotlib!=3.0.0,>=2.0.0->scikit-image->easyocr) (1.3.2)\n",
            "Installing collected packages: python-bidi, opencv-python-headless, easyocr\n",
            "Successfully installed easyocr-1.4.1 opencv-python-headless-4.5.4.60 python-bidi-0.4.2\n"
          ]
        }
      ],
      "source": [
        "!pip install easyocr"
      ]
    },
    {
      "cell_type": "code",
      "source": [
        "import easyocr\n",
        "import cv2\n",
        "from matplotlib import pyplot as plt\n",
        "import numpy as np"
      ],
      "metadata": {
        "id": "11YM3PZX859Z"
      },
      "execution_count": null,
      "outputs": []
    },
    {
      "cell_type": "code",
      "source": [
        "IMAGE_PATH = '/content/drug1.jpg'\n",
        "IMAGE_PATH2 = '/content/gamot1.jpg'\n",
        "IMAGE_PATH3 = '/content/drug2.jpg'\n",
        "IMAGE_PATH4 = '/content/gamot1.jpg'\n",
        "IMAGE_PATH5 = '/content/drug3.jpg'\n",
        "IMAGE_PATH6 = '/content/drug4.jpg'\n",
        "IMAGE_PATH7 = '/content/drug5.jpg'\n",
        "IMAGE_PATH8 = '/content/drug6.jpg'\n",
        "IMAGE_PATH9 = '/content/drug7.jpg'"
      ],
      "metadata": {
        "id": "z-sglf3M9Nrx"
      },
      "execution_count": null,
      "outputs": []
    },
    {
      "cell_type": "code",
      "source": [
        "reader = easyocr.Reader(['en'], gpu=False)\n",
        "result = reader.readtext(IMAGE_PATH)\n",
        "result"
      ],
      "metadata": {
        "colab": {
          "base_uri": "https://localhost:8080/"
        },
        "id": "VGlBlQD-9y-H",
        "outputId": "cfc081f6-f381-47ca-e51d-df1222da4378"
      },
      "execution_count": null,
      "outputs": [
        {
          "output_type": "stream",
          "name": "stderr",
          "text": [
            "Using CPU. Note: This module is much faster with a GPU.\n",
            "Downloading detection model, please wait. This may take several minutes depending upon your network connection.\n"
          ]
        },
        {
          "output_type": "stream",
          "name": "stdout",
          "text": [
            ""
          ]
        },
        {
          "output_type": "stream",
          "name": "stderr",
          "text": [
            "Downloading recognition model, please wait. This may take several minutes depending upon your network connection.\n"
          ]
        },
        {
          "output_type": "stream",
          "name": "stdout",
          "text": [
            ""
          ]
        },
        {
          "output_type": "execute_result",
          "data": {
            "text/plain": [
              "[([[240, 160], [311, 160], [311, 179], [240, 179]],\n",
              "  'Pharmacy',\n",
              "  0.9999850799695236),\n",
              " ([[247, 203], [291, 203], [291, 215], [247, 215]],\n",
              "  'TABLETS',\n",
              "  0.9200614219531124),\n",
              " ([[219, 215], [339, 215], [339, 236], [219, 236]],\n",
              "  'TAKE ONE TABLET EYI',\n",
              "  0.2848517232735354),\n",
              " ([[219, 233], [287, 233], [287, 249], [219, 249]],\n",
              "  'EVERY DAY',\n",
              "  0.9564806501683228),\n",
              " ([[219, 259], [253, 259], [253, 273], [219, 273]],\n",
              "  'QTY: 90',\n",
              "  0.5064908308916998),\n",
              " ([[219, 277], [303, 277], [303, 291], [219, 291]],\n",
              "  'Way REFILL 4X BY',\n",
              "  0.5680008289457772),\n",
              " ([[252, 294], [290, 294], [290, 302], [252, 302]],\n",
              "  '42 01.2019',\n",
              "  0.11060751694073342),\n",
              " ([[219.4187618062809, 200.18626652879325],\n",
              "   [248.96623493960124, 203.74233734943968],\n",
              "   [247.5812381937191, 215.81373347120675],\n",
              "   [217.03376506039876, 212.25766265056032]],\n",
              "  'DucC',\n",
              "  0.052604880183935165),\n",
              " ([[299.18076807948097, 277.42653765563665],\n",
              "   [335.8889745564266, 272.5420434103257],\n",
              "   [337.81923192051903, 285.57346234436335],\n",
              "   [301.1110254435734, 290.4579565896743]],\n",
              "  '12045',\n",
              "  0.0804113732577644)]"
            ]
          },
          "metadata": {},
          "execution_count": 4
        }
      ]
    },
    {
      "cell_type": "code",
      "source": [
        "top_left = tuple(result[0][0][0])\n",
        "bottom_right = tuple(result[0][0][2])\n",
        "text = result[0][1]\n",
        "font = cv2.FONT_HERSHEY_SIMPLEX"
      ],
      "metadata": {
        "id": "assOA0ce-Bfu"
      },
      "execution_count": null,
      "outputs": []
    },
    {
      "cell_type": "code",
      "source": [
        "img = cv2.imread(IMAGE_PATH)\n",
        "img = cv2.rectangle(img,top_left,bottom_right,(0,255,0),3)\n",
        "img = cv2.putText(img,text,top_left, font, 0.5,(255,255,255),2,cv2.LINE_AA)\n",
        "plt.imshow(img)\n",
        "plt.show()"
      ],
      "metadata": {
        "colab": {
          "base_uri": "https://localhost:8080/",
          "height": 269
        },
        "id": "YO6FGpe1-Q3I",
        "outputId": "a70be43b-cd6d-45de-863d-189b173db2e4"
      },
      "execution_count": null,
      "outputs": [
        {
          "output_type": "display_data",
          "data": {
            "image/png": "[encoded data removed]",
            "text/plain": [
              "<Figure size 432x288 with 1 Axes>"
            ]
          },
          "metadata": {
            "needs_background": "light"
          }
        }
      ]
    },
    {
      "cell_type": "code",
      "source": [
        "for res in result:\n",
        "    print(res[1]) "
      ],
      "metadata": {
        "colab": {
          "base_uri": "https://localhost:8080/"
        },
        "id": "NH75F-Vs-7ic",
        "outputId": "613158d3-3569-4dea-be9f-b3212a582995"
      },
      "execution_count": null,
      "outputs": [
        {
          "output_type": "stream",
          "name": "stdout",
          "text": [
            "Pharmacy\n",
            "TABLETS\n",
            "TAKE ONE TABLET EYI\n",
            "EVERY DAY\n",
            "QTY: 90\n",
            "Way REFILL 4X BY\n",
            "42 01.2019\n",
            "DucC\n",
            "12045\n"
          ]
        }
      ]
    },
    {
      "cell_type": "code",
      "source": [
        "reader = easyocr.Reader(['en'], gpu=False)\n",
        "result = reader.readtext(IMAGE_PATH2)\n",
        "result"
      ],
      "metadata": {
        "colab": {
          "base_uri": "https://localhost:8080/"
        },
        "id": "5Jm0yB5PBsap",
        "outputId": "22537a28-579e-4f5e-df2a-0a52b051d42d"
      },
      "execution_count": null,
      "outputs": [
        {
          "output_type": "stream",
          "name": "stderr",
          "text": [
            "Using CPU. Note: This module is much faster with a GPU.\n"
          ]
        },
        {
          "output_type": "execute_result",
          "data": {
            "text/plain": [
              "[([[1111, 621], [1175, 621], [1175, 710], [1111, 710]],\n",
              "  '8',\n",
              "  0.9089018078848312),\n",
              " ([[10, 532], [663, 532], [663, 1422], [10, 1422]],\n",
              "  'HFH',\n",
              "  0.12235161018885542),\n",
              " ([[1182, 620], [1258, 620], [1258, 1100], [1182, 1100]],\n",
              "  '1',\n",
              "  0.39478974073894335),\n",
              " ([[1240, 600], [1389, 600], [1389, 1061], [1240, 1061]],\n",
              "  '0',\n",
              "  0.7877827686209038),\n",
              " ([[1373, 601], [1662, 601], [1662, 1392], [1373, 1392]],\n",
              "  'H',\n",
              "  0.9492571741850817),\n",
              " ([[1697, 613], [1805, 613], [1805, 873], [1697, 873]],\n",
              "  '3',\n",
              "  0.1863616145607958),\n",
              " ([[2118, 909], [2179, 909], [2179, 1106], [2118, 1106]],\n",
              "  '1',\n",
              "  0.09044566114127761),\n",
              " ([[2120, 816], [2174, 816], [2174, 922], [2120, 922]],\n",
              "  '3',\n",
              "  0.2747862257019875),\n",
              " ([[2191, 649], [2271, 649], [2271, 1118], [2191, 1118]],\n",
              "  '1',\n",
              "  0.5446367500603664),\n",
              " ([[2198, 823], [2262, 823], [2262, 941], [2198, 941]],\n",
              "  '3',\n",
              "  0.2495049605112678),\n",
              " ([[2263, 636], [2387, 636], [2387, 1087], [2263, 1087]],\n",
              "  '[',\n",
              "  0.07487298174846391),\n",
              " ([[2372, 629], [2661, 629], [2661, 1411], [2372, 1411]],\n",
              "  'H',\n",
              "  0.9430762537429906),\n",
              " ([[2698, 631], [2809, 631], [2809, 894], [2698, 894]],\n",
              "  '6',\n",
              "  0.06623331640757701),\n",
              " ([[3005, 852], [3186, 852], [3186, 1267], [3005, 1267]],\n",
              "  '5',\n",
              "  0.638368369899954),\n",
              " ([[1100, 1073], [1276, 1073], [1276, 1395], [1100, 1395]],\n",
              "  '4',\n",
              "  0.16901796152812043),\n",
              " ([[2182, 1106], [2266, 1106], [2266, 1287], [2182, 1287]],\n",
              "  '1',\n",
              "  0.49293575966800063),\n",
              " ([[63, 1701], [131, 1701], [131, 1805], [63, 1805]], '3', 0.1366110319275471),\n",
              " ([[2108, 1715], [2168, 1715], [2168, 1787], [2108, 1787]],\n",
              "  '9',\n",
              "  0.5006070816665762),\n",
              " ([[45, 1794], [142, 1794], [142, 2152], [45, 2152]],\n",
              "  '(',\n",
              "  0.04209660836697915),\n",
              " ([[35, 1637], [668, 1637], [668, 2513], [35, 2513]],\n",
              "  'HFH',\n",
              "  0.08835572679356073),\n",
              " ([[660, 1672], [772, 1672], [772, 1938], [660, 1938]],\n",
              "  '3',\n",
              "  0.3925065948644715),\n",
              " ([[1095, 1704], [1176, 1704], [1176, 2151], [1095, 2151]],\n",
              "  '1',\n",
              "  0.6426553173020331),\n",
              " ([[1075, 1646], [1680, 1646], [1680, 2489], [1075, 2489]],\n",
              "  'JFL',\n",
              "  0.03296373214061389),\n",
              " ([[1691, 1684], [1793, 1684], [1793, 1934], [1691, 1934]],\n",
              "  '0',\n",
              "  0.5717500336377412),\n",
              " ([[2081, 1686], [2378, 1686], [2378, 2188], [2081, 2188]],\n",
              "  'H',\n",
              "  0.703521468011278),\n",
              " ([[2349, 1687], [2638, 1687], [2638, 2441], [2349, 2441]],\n",
              "  'Hl',\n",
              "  0.1300262197565162),\n",
              " ([[2160, 2149], [2251, 2149], [2251, 2328], [2160, 2328]],\n",
              "  '1',\n",
              "  0.7316247741414692),\n",
              " ([[2091, 2311], [2246, 2311], [2246, 2444], [2091, 2444]],\n",
              "  'R',\n",
              "  0.6104185264297293)]"
            ]
          },
          "metadata": {},
          "execution_count": 21
        }
      ]
    },
    {
      "cell_type": "code",
      "source": [
        "for res in result:\n",
        "    print(res[1]) "
      ],
      "metadata": {
        "colab": {
          "base_uri": "https://localhost:8080/"
        },
        "id": "2MZ-tZlJCNT-",
        "outputId": "9f47ad92-e852-48e6-f37c-10a57349a0ba"
      },
      "execution_count": null,
      "outputs": [
        {
          "output_type": "stream",
          "name": "stdout",
          "text": [
            "8\n",
            "HFH\n",
            "1\n",
            "0\n",
            "H\n",
            "3\n",
            "1\n",
            "3\n",
            "1\n",
            "3\n",
            "[\n",
            "H\n",
            "6\n",
            "5\n",
            "4\n",
            "1\n",
            "3\n",
            "9\n",
            "(\n",
            "HFH\n",
            "3\n",
            "1\n",
            "JFL\n",
            "0\n",
            "H\n",
            "Hl\n",
            "1\n",
            "R\n"
          ]
        }
      ]
    },
    {
      "cell_type": "code",
      "source": [
        "top_left = tuple(result[0][0][0])\n",
        "bottom_right = tuple(result[0][0][2])\n",
        "text = result[0][1]\n",
        "font = cv2.FONT_HERSHEY_SIMPLEX"
      ],
      "metadata": {
        "id": "QLrkNyx1ChaM"
      },
      "execution_count": null,
      "outputs": []
    },
    {
      "cell_type": "code",
      "source": [
        "img = cv2.imread(IMAGE_PATH2)\n",
        "img = cv2.rectangle(img,top_left,bottom_right,(0,255,0),3)\n",
        "img = cv2.putText(img,text,top_left, font, 0.5,(255,255,255),2,cv2.LINE_AA)\n",
        "plt.imshow(img)\n",
        "plt.show()"
      ],
      "metadata": {
        "colab": {
          "base_uri": "https://localhost:8080/",
          "height": 269
        },
        "id": "lkHffZiFCiCo",
        "outputId": "173b7a87-a46c-454a-8e37-e4b075501b32"
      },
      "execution_count": null,
      "outputs": [
        {
          "output_type": "display_data",
          "data": {
            "image/png": "[encoded data removed]",
            "text/plain": [
              "<Figure size 432x288 with 1 Axes>"
            ]
          },
          "metadata": {
            "needs_background": "light"
          }
        }
      ]
    },
    {
      "cell_type": "code",
      "source": [
        "reader = easyocr.Reader(['en'], gpu=False)\n",
        "result3 = reader.readtext(IMAGE_PATH3)\n",
        "result3"
      ],
      "metadata": {
        "colab": {
          "base_uri": "https://localhost:8080/"
        },
        "id": "F5i9AR4eC7Y2",
        "outputId": "43381056-2d8d-407b-baf9-555cd72c73c6"
      },
      "execution_count": null,
      "outputs": [
        {
          "output_type": "stream",
          "name": "stderr",
          "text": [
            "Using CPU. Note: This module is much faster with a GPU.\n"
          ]
        },
        {
          "output_type": "execute_result",
          "data": {
            "text/plain": [
              "[([[72, 102], [214, 102], [214, 132], [72, 132]],\n",
              "  'CVSlphammac',\n",
              "  0.15325871268653374),\n",
              " ([[321, 107], [371, 107], [371, 127], [321, 127]],\n",
              "  'Lnacy',\n",
              "  0.21347500690753599),\n",
              " ([[375, 115], [407, 115], [407, 129], [375, 129]],\n",
              "  '0J0o',\n",
              "  0.0802789255976677),\n",
              " ([[596, 112], [628, 112], [628, 120], [596, 120]], 'e', 0.0386342091631422),\n",
              " ([[629, 111], [695, 111], [695, 125], [629, 125]],\n",
              "  'Mtoulvo',\n",
              "  0.059123993893344155),\n",
              " ([[628, 122], [660, 122], [660, 130], [628, 130]],\n",
              "  'CCu',\n",
              "  0.056490094261452656),\n",
              " ([[612, 120], [654, 120], [654, 144], [612, 144]],\n",
              "  \"AS'\",\n",
              "  0.058915819995589404),\n",
              " ([[653, 131], [697, 131], [697, 143], [653, 143]],\n",
              "  \"Voso'\",\n",
              "  0.14356691191321425),\n",
              " ([[583, 147], [615, 147], [615, 161], [583, 161]],\n",
              "  'Conoi',\n",
              "  0.016483530621827606),\n",
              " ([[613, 149], [713, 149], [713, 161], [613, 161]],\n",
              "  'TETASDILGUO',\n",
              "  0.04845393324927365),\n",
              " ([[583, 157], [669, 157], [669, 169], [583, 169]],\n",
              "  'AecCMmighanI',\n",
              "  0.008559645018034114),\n",
              " ([[73, 168], [224, 168], [224, 192], [73, 192]],\n",
              "  'WARFARIN SodiUUI',\n",
              "  0.18037147236615303),\n",
              " ([[321, 169], [429, 169], [429, 189], [321, 189]],\n",
              "  'IODium 5 MG',\n",
              "  0.22998243138422092),\n",
              " ([[583, 183], [681, 183], [681, 197], [583, 197]],\n",
              "  'Vunyaltori',\n",
              "  0.02534936567529667),\n",
              " ([[75, 189], [125, 189], [125, 209], [75, 209]], 'TABLET', 0.514405451870904),\n",
              " ([[581, 193], [711, 193], [711, 209], [581, 209]],\n",
              "  '0eenngo oudrid',\n",
              "  0.0012853410659744286),\n",
              " ([[74, 216], [120, 216], [120, 242], [74, 242]], 'TAKE', 0.8723022937774658),\n",
              " ([[134, 216], [224, 216], [224, 242], [134, 242]],\n",
              "  'TABLETE:',\n",
              "  0.6296283014303438),\n",
              " ([[318, 216], [436, 216], [436, 244], [318, 244]],\n",
              "  '\"ELET EVERY',\n",
              "  0.7169056190857431),\n",
              " ([[600, 236], [648, 236], [648, 244], [600, 244]],\n",
              "  'Jcan',\n",
              "  0.01820182614028454),\n",
              " ([[74, 236], [114, 236], [114, 262], [74, 262]], 'DAY', 0.6101193147181022),\n",
              " ([[605, 245], [709, 245], [709, 261], [605, 261]],\n",
              "  'Tillcd: 03/1I/ZOI',\n",
              "  0.15729393744191),\n",
              " ([[591, 257], [719, 257], [719, 273], [591, 273]],\n",
              "  'Kdaltut 014/9IL',\n",
              "  0.011183734954892248),\n",
              " ([[614, 272], [676, 272], [676, 280], [614, 280]],\n",
              "  'ALonedd',\n",
              "  0.0004160152714168763),\n",
              " ([[612, 282], [656, 282], [656, 290], [612, 290]],\n",
              "  'Eennatnler',\n",
              "  0.000984437475031833),\n",
              " ([[75, 301], [217, 301], [217, 321], [75, 321]],\n",
              "  'Store Phone: (914163',\n",
              "  0.686462258345298),\n",
              " ([[329, 301], [429, 301], [429, 321], [329, 321]],\n",
              "  '514/ 693-9191',\n",
              "  0.28138773846208753),\n",
              " ([[71, 321], [168, 321], [168, 347], [71, 347]],\n",
              "  '134830049',\n",
              "  0.06907140573089161)]"
            ]
          },
          "metadata": {},
          "execution_count": 26
        }
      ]
    },
    {
      "cell_type": "code",
      "source": [
        "for res in result3:\n",
        "    print(res[1]) "
      ],
      "metadata": {
        "colab": {
          "base_uri": "https://localhost:8080/"
        },
        "id": "C6YBMP0SDNuS",
        "outputId": "3234b0a7-72fb-4e4e-8577-d960f4b6e710"
      },
      "execution_count": null,
      "outputs": [
        {
          "output_type": "stream",
          "name": "stdout",
          "text": [
            "CVSlphammac\n",
            "Lnacy\n",
            "0J0o\n",
            "e\n",
            "Mtoulvo\n",
            "CCu\n",
            "AS'\n",
            "Voso'\n",
            "Conoi\n",
            "TETASDILGUO\n",
            "AecCMmighanI\n",
            "WARFARIN SodiUUI\n",
            "IODium 5 MG\n",
            "Vunyaltori\n",
            "TABLET\n",
            "0eenngo oudrid\n",
            "TAKE\n",
            "TABLETE:\n",
            "\"ELET EVERY\n",
            "Jcan\n",
            "DAY\n",
            "Tillcd: 03/1I/ZOI\n",
            "Kdaltut 014/9IL\n",
            "ALonedd\n",
            "Eennatnler\n",
            "Store Phone: (914163\n",
            "514/ 693-9191\n",
            "134830049\n"
          ]
        }
      ]
    },
    {
      "cell_type": "code",
      "source": [
        "reader = easyocr.Reader(['en'], gpu=False)\n",
        "result4 = reader.readtext(IMAGE_PATH4)\n",
        "result4"
      ],
      "metadata": {
        "colab": {
          "base_uri": "https://localhost:8080/"
        },
        "id": "_3dZtsF8EXa4",
        "outputId": "27a41b07-a2b6-4c16-ff7c-46ff5440a5d5"
      },
      "execution_count": null,
      "outputs": [
        {
          "output_type": "stream",
          "name": "stderr",
          "text": [
            "Using CPU. Note: This module is much faster with a GPU.\n"
          ]
        },
        {
          "output_type": "execute_result",
          "data": {
            "text/plain": [
              "[([[1111, 621], [1175, 621], [1175, 710], [1111, 710]],\n",
              "  '8',\n",
              "  0.9089018078848312),\n",
              " ([[10, 532], [663, 532], [663, 1422], [10, 1422]],\n",
              "  'HFH',\n",
              "  0.12235161018885542),\n",
              " ([[1182, 620], [1258, 620], [1258, 1100], [1182, 1100]],\n",
              "  '1',\n",
              "  0.39478974073894335),\n",
              " ([[1240, 600], [1389, 600], [1389, 1061], [1240, 1061]],\n",
              "  '0',\n",
              "  0.7877827686209038),\n",
              " ([[1373, 601], [1662, 601], [1662, 1392], [1373, 1392]],\n",
              "  'H',\n",
              "  0.9492571741850817),\n",
              " ([[1697, 613], [1805, 613], [1805, 873], [1697, 873]],\n",
              "  '3',\n",
              "  0.1863616145607958),\n",
              " ([[2118, 909], [2179, 909], [2179, 1106], [2118, 1106]],\n",
              "  '1',\n",
              "  0.09044566114127761),\n",
              " ([[2120, 816], [2174, 816], [2174, 922], [2120, 922]],\n",
              "  '3',\n",
              "  0.2747862257019875),\n",
              " ([[2191, 649], [2271, 649], [2271, 1118], [2191, 1118]],\n",
              "  '1',\n",
              "  0.5446367500603664),\n",
              " ([[2198, 823], [2262, 823], [2262, 941], [2198, 941]],\n",
              "  '3',\n",
              "  0.2495049605112678),\n",
              " ([[2263, 636], [2387, 636], [2387, 1087], [2263, 1087]],\n",
              "  '[',\n",
              "  0.07487298174846391),\n",
              " ([[2372, 629], [2661, 629], [2661, 1411], [2372, 1411]],\n",
              "  'H',\n",
              "  0.9430762537429906),\n",
              " ([[2698, 631], [2809, 631], [2809, 894], [2698, 894]],\n",
              "  '6',\n",
              "  0.06623331640757701),\n",
              " ([[3005, 852], [3186, 852], [3186, 1267], [3005, 1267]],\n",
              "  '5',\n",
              "  0.638368369899954),\n",
              " ([[1100, 1073], [1276, 1073], [1276, 1395], [1100, 1395]],\n",
              "  '4',\n",
              "  0.16901796152812043),\n",
              " ([[2182, 1106], [2266, 1106], [2266, 1287], [2182, 1287]],\n",
              "  '1',\n",
              "  0.49293575966800063),\n",
              " ([[63, 1701], [131, 1701], [131, 1805], [63, 1805]], '3', 0.1366110319275471),\n",
              " ([[2108, 1715], [2168, 1715], [2168, 1787], [2108, 1787]],\n",
              "  '9',\n",
              "  0.5006070816665762),\n",
              " ([[45, 1794], [142, 1794], [142, 2152], [45, 2152]],\n",
              "  '(',\n",
              "  0.04209660836697915),\n",
              " ([[35, 1637], [668, 1637], [668, 2513], [35, 2513]],\n",
              "  'HFH',\n",
              "  0.08835572679356073),\n",
              " ([[660, 1672], [772, 1672], [772, 1938], [660, 1938]],\n",
              "  '3',\n",
              "  0.3925065948644715),\n",
              " ([[1095, 1704], [1176, 1704], [1176, 2151], [1095, 2151]],\n",
              "  '1',\n",
              "  0.6426553173020331),\n",
              " ([[1075, 1646], [1680, 1646], [1680, 2489], [1075, 2489]],\n",
              "  'JFL',\n",
              "  0.03296373214061389),\n",
              " ([[1691, 1684], [1793, 1684], [1793, 1934], [1691, 1934]],\n",
              "  '0',\n",
              "  0.5717500336377412),\n",
              " ([[2081, 1686], [2378, 1686], [2378, 2188], [2081, 2188]],\n",
              "  'H',\n",
              "  0.703521468011278),\n",
              " ([[2349, 1687], [2638, 1687], [2638, 2441], [2349, 2441]],\n",
              "  'Hl',\n",
              "  0.1300262197565162),\n",
              " ([[2160, 2149], [2251, 2149], [2251, 2328], [2160, 2328]],\n",
              "  '1',\n",
              "  0.7316247741414692),\n",
              " ([[2091, 2311], [2246, 2311], [2246, 2444], [2091, 2444]],\n",
              "  'R',\n",
              "  0.6104185264297293)]"
            ]
          },
          "metadata": {},
          "execution_count": 29
        }
      ]
    },
    {
      "cell_type": "code",
      "source": [
        "for res in result4:\n",
        "    print(res[1]) "
      ],
      "metadata": {
        "colab": {
          "base_uri": "https://localhost:8080/"
        },
        "id": "5ocbZygQEutw",
        "outputId": "bacc0ad6-bae5-4769-b925-48e133de6874"
      },
      "execution_count": null,
      "outputs": [
        {
          "output_type": "stream",
          "name": "stdout",
          "text": [
            "8\n",
            "HFH\n",
            "1\n",
            "0\n",
            "H\n",
            "3\n",
            "1\n",
            "3\n",
            "1\n",
            "3\n",
            "[\n",
            "H\n",
            "6\n",
            "5\n",
            "4\n",
            "1\n",
            "3\n",
            "9\n",
            "(\n",
            "HFH\n",
            "3\n",
            "1\n",
            "JFL\n",
            "0\n",
            "H\n",
            "Hl\n",
            "1\n",
            "R\n"
          ]
        }
      ]
    },
    {
      "cell_type": "code",
      "source": [
        "reader = easyocr.Reader(['en'], gpu=False)\n",
        "result5 = reader.readtext(IMAGE_PATH5)\n",
        "result5"
      ],
      "metadata": {
        "colab": {
          "base_uri": "https://localhost:8080/"
        },
        "id": "8B0Me-36FaH_",
        "outputId": "804e314a-a3c9-4e5e-8d8e-d36d0b6ea742"
      },
      "execution_count": null,
      "outputs": [
        {
          "output_type": "stream",
          "name": "stderr",
          "text": [
            "Using CPU. Note: This module is much faster with a GPU.\n"
          ]
        },
        {
          "output_type": "execute_result",
          "data": {
            "text/plain": [
              "[([[46, 574], [72, 574], [72, 602], [46, 602]], '0', 0.7278398192242186),\n",
              " ([[291, 621], [331, 621], [331, 661], [291, 661]], '1', 0.6863876127250848),\n",
              " ([[0, 849], [37, 849], [37, 887], [0, 887]], '09', 0.9375614002892043),\n",
              " ([[328, 936], [390, 936], [390, 960], [328, 960]], '', 0.0),\n",
              " ([[426.7701175612585, 255.99310580513264],\n",
              "   [474.54348726628257, 226.42752122286237],\n",
              "   [489.2298824387415, 251.00689419486736],\n",
              "   [441.45651273371743, 281.57247877713763]],\n",
              "  'Tab',\n",
              "  0.9830499575449584),\n",
              " ([[298.0248140489501, 261.502481404895],\n",
              "   [368.6608577260917, 222.76681725394496],\n",
              "   [389.9751859510499, 263.497518595105],\n",
              "   [319.3391422739083, 301.23318274605504]],\n",
              "  'Me',\n",
              "  0.9994995007198064),\n",
              " ([[321.13227816872535, 298.0952517592642],\n",
              "   [427.5546776931608, 225.92207506848095],\n",
              "   [444.86772183127465, 260.9047482407358],\n",
              "   [339.4453223068392, 332.0779249315191]],\n",
              "  'Bonan',\n",
              "  0.9999669063246364),\n",
              " ([[160.57573593128808, 328.0301515190165],\n",
              "   [255.80750288376814, 242.60564553059288],\n",
              "   [269.4242640687119, 263.9698484809835],\n",
              "   [175.19249711623186, 349.3943544694071]],\n",
              "  'emeticlAnti',\n",
              "  0.33712898385722173),\n",
              " ([[359.4976792543354, 347.03166610925],\n",
              "   [494.585856969138, 242.94822285624255],\n",
              "   [513.5023207456645, 275.96833389075],\n",
              "   [378.414143030862, 380.0517771437575]],\n",
              "  'Chewablev',\n",
              "  0.316112391610149),\n",
              " ([[375.6058874199486, 369.01946294148075],\n",
              "   [534.7377436336653, 246.08370786848693],\n",
              "   [550.3941125800515, 275.98053705851925],\n",
              "   [391.26225636633467, 398.91629213151305]],\n",
              "  'Anti-emeticlAnt',\n",
              "  0.7516377369740244),\n",
              " ([[113.02871413764274, 294.2516854477569],\n",
              "   [145.757265691441, 263.14890608758867],\n",
              "   [158.97128586235726, 279.7483145522431],\n",
              "   [126.242734308559, 310.85109391241133]],\n",
              "  'Tn',\n",
              "  0.02863938653501573),\n",
              " ([[144.10517502059216, 311.1365600658949],\n",
              "   [205.5702543176244, 260.44377204107656],\n",
              "   [221.89482497940784, 284.8634399341051],\n",
              "   [159.4297456823756, 335.55622795892344]],\n",
              "  'weble-',\n",
              "  0.39267377689273836),\n",
              " ([[188.66578353978494, 349.0281228847311],\n",
              "   [270.191318273101, 275.39352535900014],\n",
              "   [283.3342164602151, 293.9718771152689],\n",
              "   [201.80868172689898, 367.60647464099986]],\n",
              "  'DR-KY22028',\n",
              "  0.5258985202705144),\n",
              " ([[373.05825797292727, 303.41165159458546],\n",
              "   [417.40614742069806, 275.3499529379152],\n",
              "   [433.94174202707273, 302.58834840541454],\n",
              "   [388.59385257930194, 329.6500470620848]],\n",
              "  'mg',\n",
              "  0.6904764036766953),\n",
              " ([[459.3351366892331, 355.0746014326256],\n",
              "   [542.9262030159334, 293.70005610037794],\n",
              "   [555.6648633107669, 316.9253985673744],\n",
              "   [472.0737969840665, 378.29994389962206]],\n",
              "  'DR-XYiz0',\n",
              "  0.3182479561808659),\n",
              " ([[343.2145699273442, 327.88582797093767],\n",
              "   [375.9486832980505, 303.1539501058485],\n",
              "   [392.7854300726558, 326.11417202906233],\n",
              "   [360.0513167019495, 350.8460498941515]],\n",
              "  '25',\n",
              "  0.9999991570631338),\n",
              " ([[113.98198161801106, 337.78017977981216],\n",
              "   [151.26865639599336, 309.2814505800142],\n",
              "   [165.01801838198892, 331.21982022018784],\n",
              "   [127.73134360400663, 359.7185494199858]],\n",
              "  'Chet',\n",
              "  0.24636156857013702),\n",
              " ([[125.83752361256181, 357.3725330575865],\n",
              "   [164.92513201339003, 327.2268303076691],\n",
              "   [178.1624763874382, 346.6274669424135],\n",
              "   [139.07486798660997, 376.7731696923309]],\n",
              "  'Antl',\n",
              "  0.39128240942955017),\n",
              " ([[475.0220279500418, 374.1638810551212],\n",
              "   [537.7076299364909, 327.5334234250687],\n",
              "   [550.9779720499582, 350.8361189448788],\n",
              "   [489.29237006350905, 397.4665765749313]],\n",
              "  '137104',\n",
              "  0.31200021620457324),\n",
              " ([[151.67504722512362, 409.7450661151731],\n",
              "   [198.43174404652981, 372.2650155307918],\n",
              "   [219.32495277487638, 402.2549338848269],\n",
              "   [172.56825595347019, 439.7349844692082]],\n",
              "  'HcU',\n",
              "  0.5115135638569227),\n",
              " ([[416.464899367183, 429.69032892421114],\n",
              "   [472.6377160773976, 383.27581900750687],\n",
              "   [499.535100632817, 421.30967107578886],\n",
              "   [443.3622839226024, 467.72418099249313]],\n",
              "  'HCU',\n",
              "  0.3725057414018783),\n",
              " ([[34.27253004752584, 500.05320432317575],\n",
              "   [148.8340425287675, 403.8807521384193],\n",
              "   [171.72746995247417, 441.94679567682425],\n",
              "   [57.16595747123249, 537.1192478615807]],\n",
              "  'eclizine',\n",
              "  0.2748709408483746),\n",
              " ([[234.2672065083737, 555.0384618295502],\n",
              "   [419.5555396141918, 421.68520378344294],\n",
              "   [445.7327934916263, 473.96153817044984],\n",
              "   [260.4444603858082, 607.314796216557]],\n",
              "  'Meclizine ',\n",
              "  0.6402658326288433),\n",
              " ([[37.43431457505076, 545.0402020253554],\n",
              "   [151.44273297392408, 451.8325000997468],\n",
              "   [170.56568542494924, 482.9597979746447],\n",
              "   [55.55726702607592, 576.1674999002532]],\n",
              "  'onamine',\n",
              "  0.9433434632129665),\n",
              " ([[55.78472903353774, 632.0077335661746],\n",
              "   [255.11543599368517, 472.8728115841277],\n",
              "   [270.21527096646224, 498.9922664338254],\n",
              "   [70.88456400631485, 658.1271884158723]],\n",
              "  'AntiemeticlAnti-vertigo',\n",
              "  0.6993643175407016),\n",
              " ([[105.05131670194949, 528.1539501058485],\n",
              "   [168.65560070254534, 479.4982033828204],\n",
              "   [182.94868329805053, 503.8460498941515],\n",
              "   [120.34439929745466, 552.5017966171796]],\n",
              "  'Tablet',\n",
              "  0.8559403521816196),\n",
              " ([[257.45383724065573, 600.0299188899671],\n",
              "   [425.3395487088863, 477.2787885815267],\n",
              "   [446.54616275934427, 518.9700811100329],\n",
              "   [278.6604512911137, 640.7212114184733]],\n",
              "  'Bonamine',\n",
              "  0.9859116200075144),\n",
              " ([[372.8399704188685, 568.1719023822661],\n",
              "   [450.2747271990396, 511.70976958710344],\n",
              "   [467.1600295811315, 542.8280976177339],\n",
              "   [389.7252728009604, 599.2902304128966]],\n",
              "  'Tablet',\n",
              "  0.5968034409608316),\n",
              " ([[45.40952575098924, 609.0438225316279],\n",
              "   [159.51207707303658, 519.8872088442807],\n",
              "   [176.59047424901075, 549.9561774683721],\n",
              "   [62.487922926963414, 640.1127911557193]],\n",
              "  'Chewable:',\n",
              "  0.48501020716202253),\n",
              " ([[58.05825797292724, 568.4116515945855],\n",
              "   [94.45105833507037, 546.3742753936822],\n",
              "   [107.94174202707276, 567.5883484054145],\n",
              "   [70.54894166492963, 589.6257246063178]],\n",
              "  'm9',\n",
              "  0.8312913221664848),\n",
              " ([[119.45373221945307, 634.0501539850466],\n",
              "   [205.89381419510872, 564.6733139888664],\n",
              "   [217.5462677805469, 585.9498460149534],\n",
              "   [132.10618580489128, 655.3266860111336]],\n",
              "  'DR-Xy22028',\n",
              "  0.5240131482148216),\n",
              " ([[296.30265739077055, 659.0488674744709],\n",
              "   [441.2746526920892, 557.221554586051],\n",
              "   [461.69734260922945, 597.9511325255291],\n",
              "   [317.7253473079108, 699.778445413949]],\n",
              "  'Chewables',\n",
              "  0.6981428330798303),\n",
              " ([[318.6277902025136, 693.0173551668953],\n",
              "   [493.8192588754893, 563.1624342486958],\n",
              "   [509.3722097974864, 593.9826448331047],\n",
              "   [334.1807411245107, 723.8375657513042]],\n",
              "  'Anti-emeticlAnti-',\n",
              "  0.6076779269667384),\n",
              " ([[314.28609323645895, 610.5144372945836],\n",
              "   [363.1199957600127, 586.6080067839797],\n",
              "   [377.71390676354105, 617.4855627054164],\n",
              "   [328.8800042399873, 641.3919932160203]],\n",
              "  'mg',\n",
              "  0.998711308421702),\n",
              " ([[128.28913145942698, 653.0854389836506],\n",
              "   [198.73133187987014, 595.5500020567875],\n",
              "   [212.71086854057302, 617.9145610163494],\n",
              "   [142.26866812012986, 675.4499979432125]],\n",
              "  '137*018F',\n",
              "  0.5321702219198231),\n",
              " ([[83.43926240134208, 701.9271148816105],\n",
              "   [129.3770185966337, 665.2444947364536],\n",
              "   [151.5607375986579, 696.0728851183895],\n",
              "   [104.62298140336631, 732.7555052635464]],\n",
              "  'HEU',\n",
              "  0.12764403467736402),\n",
              " ([[407.51341170750567, 701.6620705367551],\n",
              "   [441.8243357397109, 675.1777841543233],\n",
              "   [455.48658829249433, 695.3379294632449],\n",
              "   [421.1756642602891, 720.8222158456767]],\n",
              "  'Dro',\n",
              "  0.025750910899210284),\n",
              " ([[-20.35908096796167, 768.1559518377649],\n",
              "   [83.30754359262158, 690.9939880760322],\n",
              "   [108.35908096796167, 736.8440481622351],\n",
              "   [2.692456407378412, 813.0060119239678]],\n",
              "  'Elizine',\n",
              "  0.6176932047203261),\n",
              " ([[357.540235122517, 769.9862116102653],\n",
              "   [427.57434088740973, 724.5803349738743],\n",
              "   [454.459764877483, 769.0137883897347],\n",
              "   [384.42565911259027, 815.4196650261257]],\n",
              "  'Hcl',\n",
              "  0.04724177697928829),\n",
              " ([[-16.815817016448005, 823.0840783210496],\n",
              "   [85.419556444001, 747.8147611370114],\n",
              "   [104.81581701644801, 782.9159216789504],\n",
              "   [1.580443555999003, 858.1852388629886]],\n",
              "  'namine',\n",
              "  0.580148894707955),\n",
              " ([[167.13175685787553, 885.0540548630044],\n",
              "   [359.7177339126555, 761.8286378265122],\n",
              "   [385.86824314212447, 818.9459451369956],\n",
              "   [194.28226608734448, 943.1713621734878]],\n",
              "  'Meclzine',\n",
              "  0.8633867022661443),\n",
              " ([[36.344788222795266, 826.3585340901495],\n",
              "   [105.2842579527944, 781.7163791928581],\n",
              "   [120.65521177720474, 811.6414659098505],\n",
              "   [52.7157420472056, 857.2836208071419]],\n",
              "  'Tablet',\n",
              "  0.9307146426289362),\n",
              " ([[-13.3349538711311, 935.0140489335399],\n",
              "   [191.9532506748709, 792.3021655997126],\n",
              "   [207.3349538711311, 823.9859510664601],\n",
              "   [1.0467493251290891, 966.6978344002874]],\n",
              "  'anth emeticlAnti-vertigo',\n",
              "  0.28911917004321863),\n",
              " ([[-14.886484414355872, 898.0994685768342],\n",
              "   [94.61293302618701, 825.9713730832832],\n",
              "   [111.88648441435588, 861.9005314231658],\n",
              "   [1.3870669738129968, 934.0286269167168]],\n",
              "  'newables',\n",
              "  0.5612608387409928),\n",
              " ([[191.24651888150316, 938.047499163875],\n",
              "   [366.1557875284102, 824.6722488497246],\n",
              "   [386.75348111849684, 870.952500836125],\n",
              "   [212.8442124715898, 984.3277511502754]],\n",
              "  'Ponamine',\n",
              "  0.4550001203570606),\n",
              " ([[310.2802656784306, 916.3885579247043],\n",
              "   [393.5727683456931, 868.9371805408416],\n",
              "   [408.7197343215694, 902.6114420752957],\n",
              "   [325.4272316543069, 950.0628194591584]],\n",
              "  'Tablet',\n",
              "  0.8107263698258083),\n",
              " ([[56.30513841808188, 949.0815813559439],\n",
              "   [141.95938054425213, 888.7282544414468],\n",
              "   [153.69486158191813, 912.9184186440561],\n",
              "   [69.04061945574786, 973.2717455585532]],\n",
              "  'ORXY22028',\n",
              "  0.2728835421786994)]"
            ]
          },
          "metadata": {},
          "execution_count": 32
        }
      ]
    },
    {
      "cell_type": "code",
      "source": [
        "for res in result5:\n",
        "    print(res[1]) "
      ],
      "metadata": {
        "colab": {
          "base_uri": "https://localhost:8080/"
        },
        "id": "przb6pKiFn5G",
        "outputId": "0c783f09-d1bc-445f-b4d8-9ea7cbf450cf"
      },
      "execution_count": null,
      "outputs": [
        {
          "output_type": "stream",
          "name": "stdout",
          "text": [
            "0\n",
            "1\n",
            "09\n",
            "\n",
            "Tab\n",
            "Me\n",
            "Bonan\n",
            "emeticlAnti\n",
            "Chewablev\n",
            "Anti-emeticlAnt\n",
            "Tn\n",
            "weble-\n",
            "DR-KY22028\n",
            "mg\n",
            "DR-XYiz0\n",
            "25\n",
            "Chet\n",
            "Antl\n",
            "137104\n",
            "HcU\n",
            "HCU\n",
            "eclizine\n",
            "Meclizine \n",
            "onamine\n",
            "AntiemeticlAnti-vertigo\n",
            "Tablet\n",
            "Bonamine\n",
            "Tablet\n",
            "Chewable:\n",
            "m9\n",
            "DR-Xy22028\n",
            "Chewables\n",
            "Anti-emeticlAnti-\n",
            "mg\n",
            "137*018F\n",
            "HEU\n",
            "Dro\n",
            "Elizine\n",
            "Hcl\n",
            "namine\n",
            "Meclzine\n",
            "Tablet\n",
            "anth emeticlAnti-vertigo\n",
            "newables\n",
            "Ponamine\n",
            "Tablet\n",
            "ORXY22028\n"
          ]
        }
      ]
    },
    {
      "cell_type": "code",
      "source": [
        "reader = easyocr.Reader(['en'], gpu=False)\n",
        "result5 = reader.readtext(IMAGE_PATH6)\n",
        "result5"
      ],
      "metadata": {
        "colab": {
          "base_uri": "https://localhost:8080/"
        },
        "id": "i3SM1a2_GLS0",
        "outputId": "1af18d10-e4a6-4708-cb11-dd953adc4b49"
      },
      "execution_count": null,
      "outputs": [
        {
          "output_type": "stream",
          "name": "stderr",
          "text": [
            "Using CPU. Note: This module is much faster with a GPU.\n"
          ]
        },
        {
          "output_type": "execute_result",
          "data": {
            "text/plain": [
              "[([[425, 533], [445, 533], [445, 555], [425, 555]], '4', 0.25137416088285036),\n",
              " ([[269, 679], [313, 679], [313, 721], [269, 721]], '25', 0.29535639998676017),\n",
              " ([[0, 860], [30, 860], [30, 894], [0, 894]], '3t', 0.1142961154790636),\n",
              " ([[279, 917], [359, 917], [359, 960], [279, 960]],\n",
              "  'Ke',\n",
              "  0.008282201644708751),\n",
              " ([[473.0220279500418, 407.1638810551212],\n",
              "   [553.0889393627473, 359.8467855799375],\n",
              "   [564.9779720499582, 383.8361189448788],\n",
              "   [483.9110606372528, 431.1532144200625]],\n",
              "  'drxy25',\n",
              "  0.006546694533864367),\n",
              " ([[489.7585911670964, 430.2689005676122],\n",
              "   [554.878757261272, 389.661138919641],\n",
              "   [567.2414088329035, 413.7310994323878],\n",
              "   [502.12124273872803, 455.338861080359]],\n",
              "  '4137101',\n",
              "  0.45174895030806694),\n",
              " ([[422.21086857389423, 479.56326057216825],\n",
              "   [489.50765217815945, 443.67429999267495],\n",
              "   [511.78913142610577, 485.43673942783175],\n",
              "   [444.49234782184055, 521.325700007325]],\n",
              "  'Hcl',\n",
              "  0.26900656409942136),\n",
              " ([[211.16268182195057, 599.0502591221897],\n",
              "   [424.005671412301, 472.1068155857282],\n",
              "   [447.83731817804943, 529.9497408778103],\n",
              "   [235.994328587699, 655.8931844142718]],\n",
              "  'Heclzine',\n",
              "  0.5917944956015647),\n",
              " ([[234.27367374813377, 650.0441247346969],\n",
              "   [429.38458503467325, 532.9042199676106],\n",
              "   [448.7263262518662, 579.9558752653031],\n",
              "   [253.61541496532675, 697.0957800323894]],\n",
              "  'Bonamine',\n",
              "  0.8639036475980421),\n",
              " ([[366.3447882227953, 624.3585340901495],\n",
              "   [456.671638967109, 575.0230308652214],\n",
              "   [471.6552117772047, 609.6414659098505],\n",
              "   [381.328361032891, 658.9769691347786]],\n",
              "  'Tablet',\n",
              "  0.9995691361759718),\n",
              " ([[277.2397140787303, 720.058141511747],\n",
              "   [443.6249971679721, 622.5562526904265],\n",
              "   [461.7602859212697, 664.941858488253],\n",
              "   [296.3750028320279, 762.4437473095735]],\n",
              "  'Chewables',\n",
              "  0.5453698814277436),\n",
              " ([[434.6750472251236, 668.745066115173],\n",
              "   [504.33847594618584, 627.7547680746809],\n",
              "   [521.3249527748764, 661.254933884827],\n",
              "   [450.66152405381416, 702.2452319253191]],\n",
              "  'IAnti-y',\n",
              "  0.44398359308826696),\n",
              " ([[299.7230723179238, 667.7061506225467],\n",
              "   [352.24924008562914, 645.6922939917218],\n",
              "   [366.2769276820762, 679.2938493774533],\n",
              "   [313.75075991437086, 702.3077060082782]],\n",
              "  'mg',\n",
              "  0.8822883351509776),\n",
              " ([[300.40952575098925, 757.0438225316279],\n",
              "   [447.9074176517684, 665.2528337148644],\n",
              "   [462.59047424901075, 697.9561774683721],\n",
              "   [315.0925823482316, 790.7471662851356]],\n",
              "  'Antkemetieh',\n",
              "  0.17961575618020387),\n",
              " ([[397.30513841808187, 767.0815813559439],\n",
              "   [492.1079370164479, 706.8653802365085],\n",
              "   [503.69486158191813, 730.9184186440561],\n",
              "   [408.8920629835521, 791.1346197634915]],\n",
              "  'Drx2',\n",
              "  0.39018210768699646),\n",
              " ([[1.024814048950054, 748.502481404895],\n",
              "   [80.96408714210847, 709.9733155805319],\n",
              "   [100.97518595104995, 750.497518595105],\n",
              "   [22.035912857891528, 790.0266844194681]],\n",
              "  '#cWI',\n",
              "  0.16438789665699005),\n",
              " ([[341.0297768587401, 841.402977685874],\n",
              "   [410.88320791178967, 799.7381455609839],\n",
              "   [435.9702231412599, 841.597022314126],\n",
              "   [365.11679208821033, 883.2618544390161]],\n",
              "  'Hcl',\n",
              "  0.14425035124268779),\n",
              " ([[164.43107091889453, 929.1553545944727],\n",
              "   [343.5201324237587, 831.2096513037496],\n",
              "   [368.56892908110547, 894.8446454055273],\n",
              "   [189.47986757624133, 992.7903486962504]],\n",
              "  'Tclzine',\n",
              "  0.1743352314148608),\n",
              " ([[51.105175020592156, 920.1365600658949],\n",
              "   [143.07932614875534, 865.8375008052944],\n",
              "   [155.89482497940784, 893.8634399341051],\n",
              "   [63.92067385124464, 948.1624991947056]],\n",
              "  'cntigd',\n",
              "  0.02465506481010275),\n",
              " ([[0.3167184270002523, 947.6583592135001],\n",
              "   [53.730049592795964, 918.5490964102057],\n",
              "   [67.68328157299975, 945.3416407864999],\n",
              "   [14.269950407204034, 974.4509035897943]],\n",
              "  'Hogi',\n",
              "  0.007632956374436617)]"
            ]
          },
          "metadata": {},
          "execution_count": 35
        }
      ]
    },
    {
      "cell_type": "code",
      "source": [
        "for res in result5:\n",
        "    print(res[1]) "
      ],
      "metadata": {
        "colab": {
          "base_uri": "https://localhost:8080/"
        },
        "id": "xIjpEg5fGc-O",
        "outputId": "298f3f0f-839a-41b4-80cd-2f4591f2f731"
      },
      "execution_count": null,
      "outputs": [
        {
          "output_type": "stream",
          "name": "stdout",
          "text": [
            "4\n",
            "25\n",
            "3t\n",
            "Ke\n",
            "drxy25\n",
            "4137101\n",
            "Hcl\n",
            "Heclzine\n",
            "Bonamine\n",
            "Tablet\n",
            "Chewables\n",
            "IAnti-y\n",
            "mg\n",
            "Antkemetieh\n",
            "Drx2\n",
            "#cWI\n",
            "Hcl\n",
            "Tclzine\n",
            "cntigd\n",
            "Hogi\n"
          ]
        }
      ]
    },
    {
      "cell_type": "code",
      "source": [
        "reader = easyocr.Reader(['en'], gpu=False)\n",
        "result7 = reader.readtext(IMAGE_PATH7)\n",
        "result7"
      ],
      "metadata": {
        "colab": {
          "base_uri": "https://localhost:8080/"
        },
        "id": "3TJOxRJSG6My",
        "outputId": "2e80559b-c43c-4dda-e9da-259ce461c3e3"
      },
      "execution_count": null,
      "outputs": [
        {
          "output_type": "stream",
          "name": "stderr",
          "text": [
            "Using CPU. Note: This module is much faster with a GPU.\n"
          ]
        },
        {
          "output_type": "execute_result",
          "data": {
            "text/plain": [
              "[([[149, 262], [342, 262], [342, 312], [149, 312]],\n",
              "  '[Butamiratel',\n",
              "  0.594634276718815),\n",
              " ([[270, 298], [338, 298], [338, 322], [270, 322]],\n",
              "  'citrale',\n",
              "  0.9666120129173364),\n",
              " ([[155, 325], [317, 325], [317, 365], [155, 365]],\n",
              "  'Sinecod Forte',\n",
              "  0.6733122759590424),\n",
              " ([[163, 371], [215, 371], [215, 389], [163, 389]],\n",
              "  '50 mg',\n",
              "  0.8881423351859556),\n",
              " ([[165, 381], [356, 381], [356, 410], [165, 410]],\n",
              "  'Sustalned-roleaso Tat Iet\"',\n",
              "  0.20536477415000545)]"
            ]
          },
          "metadata": {},
          "execution_count": 38
        }
      ]
    },
    {
      "cell_type": "code",
      "source": [
        "for res in result7:\n",
        "    print(res[1]) "
      ],
      "metadata": {
        "colab": {
          "base_uri": "https://localhost:8080/"
        },
        "id": "Eia9qjhEHD_i",
        "outputId": "cfdae2f6-5c25-441d-9c77-197855c8e453"
      },
      "execution_count": null,
      "outputs": [
        {
          "output_type": "stream",
          "name": "stdout",
          "text": [
            "[Butamiratel\n",
            "citrale\n",
            "Sinecod Forte\n",
            "50 mg\n",
            "Sustalned-roleaso Tat Iet\"\n"
          ]
        }
      ]
    },
    {
      "cell_type": "code",
      "source": [
        "reader = easyocr.Reader(['en'], gpu=False)\n",
        "result8 = reader.readtext(IMAGE_PATH8)\n",
        "result8"
      ],
      "metadata": {
        "colab": {
          "base_uri": "https://localhost:8080/"
        },
        "id": "XIapuvCEHhX7",
        "outputId": "1ef20b34-7f8c-4d0a-d949-4733551a96e8"
      },
      "execution_count": null,
      "outputs": [
        {
          "output_type": "stream",
          "name": "stderr",
          "text": [
            "Using CPU. Note: This module is much faster with a GPU.\n"
          ]
        },
        {
          "output_type": "execute_result",
          "data": {
            "text/plain": [
              "[([[134, 302], [244, 302], [244, 332], [134, 332]],\n",
              "  'Hyoscine',\n",
              "  0.9982889900745402),\n",
              " ([[317, 301], [430, 301], [430, 332], [317, 332]],\n",
              "  'Hyoscine',\n",
              "  0.9999141874913161),\n",
              " ([[135, 333], [239, 333], [239, 351], [135, 351]],\n",
              "  'N-buty Ibromide',\n",
              "  0.33319163911975164),\n",
              " ([[321, 333], [425, 333], [425, 351], [321, 351]],\n",
              "  'M-buty bromide',\n",
              "  0.5489522469008714),\n",
              " ([[133, 361], [244, 361], [244, 391], [133, 391]],\n",
              "  'Busgopan:',\n",
              "  0.3860453582331993),\n",
              " ([[317, 361], [430, 361], [430, 389], [317, 389]],\n",
              "  'Busgopon:',\n",
              "  0.6015289634803662),\n",
              " ([[120, 390], [256, 390], [256, 416], [120, 416]],\n",
              "  '10 mg tablet',\n",
              "  0.9969536196876932),\n",
              " ([[304, 390], [444, 390], [444, 416], [304, 416]],\n",
              "  '10 mg tablet',\n",
              "  0.8357653335438148),\n",
              " ([[144, 420], [232, 420], [232, 444], [144, 444]],\n",
              "  'SANOFI )',\n",
              "  0.6575125037319909),\n",
              " ([[328, 420], [418, 420], [418, 444], [328, 444]],\n",
              "  'SANOFI 3',\n",
              "  0.38129002422929764),\n",
              " ([[133, 451], [243, 451], [243, 469], [133, 469]],\n",
              "  'DRXY41205',\n",
              "  0.9535313883811402),\n",
              " ([[315, 446], [430, 446], [430, 472], [315, 472]],\n",
              "  'DR-XY41205',\n",
              "  0.9073771163325939),\n",
              " ([[134, 488], [246, 488], [246, 518], [134, 518]],\n",
              "  'Hyoscine]',\n",
              "  0.7949802829963685),\n",
              " ([[318, 488], [430, 488], [430, 520], [318, 520]],\n",
              "  'hyoscine]',\n",
              "  0.507453153500974),\n",
              " ([[137, 519], [239, 519], [239, 537], [137, 537]],\n",
              "  'Mbutydbromlde',\n",
              "  0.36902080307714114),\n",
              " ([[319, 519], [421, 519], [421, 537], [319, 537]],\n",
              "  'Mbuty bromkke',\n",
              "  0.18979299137662145),\n",
              " ([[136, 544], [178, 544], [178, 570], [136, 570]], 'Bus', 0.9984689958660311),\n",
              " ([[195, 549], [243, 549], [243, 569], [195, 569]], 'Lone', 0.1367197483778),\n",
              " ([[316, 544], [366, 544], [366, 570], [316, 570]],\n",
              "  'Buse',\n",
              "  0.5149279832839966),\n",
              " ([[391, 551], [427, 551], [427, 569], [391, 569]], 'one', 0.5775492176057864),\n",
              " ([[122, 572], [256, 572], [256, 598], [122, 598]],\n",
              "  '10 mg tablet',\n",
              "  0.3907535290364523),\n",
              " ([[302, 572], [438, 572], [438, 598], [302, 598]],\n",
              "  '10 mg tablet',\n",
              "  0.948219339131671),\n",
              " ([[149, 601], [231, 601], [231, 621], [149, 621]],\n",
              "  'SAol',\n",
              "  0.6525858640670776),\n",
              " ([[329, 603], [411, 603], [411, 621], [329, 621]],\n",
              "  'SANol',\n",
              "  0.21286765760652507),\n",
              " ([[139, 627], [243, 627], [243, 645], [139, 645]],\n",
              "  'DR-XY412o5',\n",
              "  0.8508639652662003),\n",
              " ([[317, 629], [421, 629], [421, 645], [317, 645]],\n",
              "  'DR-XY41z05',\n",
              "  0.6797186760490644)]"
            ]
          },
          "metadata": {},
          "execution_count": 41
        }
      ]
    },
    {
      "cell_type": "code",
      "source": [
        "for res in result8:\n",
        "    print(res[1]) "
      ],
      "metadata": {
        "colab": {
          "base_uri": "https://localhost:8080/"
        },
        "id": "7XJoHd8oHpTx",
        "outputId": "7eaf770e-75a4-4623-ee85-cbd70c94cd1e"
      },
      "execution_count": null,
      "outputs": [
        {
          "output_type": "stream",
          "name": "stdout",
          "text": [
            "Hyoscine\n",
            "Hyoscine\n",
            "N-buty Ibromide\n",
            "M-buty bromide\n",
            "Busgopan:\n",
            "Busgopon:\n",
            "10 mg tablet\n",
            "10 mg tablet\n",
            "SANOFI )\n",
            "SANOFI 3\n",
            "DRXY41205\n",
            "DR-XY41205\n",
            "Hyoscine]\n",
            "hyoscine]\n",
            "Mbutydbromlde\n",
            "Mbuty bromkke\n",
            "Bus\n",
            "Lone\n",
            "Buse\n",
            "one\n",
            "10 mg tablet\n",
            "10 mg tablet\n",
            "SAol\n",
            "SANol\n",
            "DR-XY412o5\n",
            "DR-XY41z05\n"
          ]
        }
      ]
    },
    {
      "cell_type": "code",
      "source": [
        "reader = easyocr.Reader(['en'], gpu=False)\n",
        "result9 = reader.readtext(IMAGE_PATH9)\n",
        "result9"
      ],
      "metadata": {
        "colab": {
          "base_uri": "https://localhost:8080/"
        },
        "id": "HhvcdGPYIPnX",
        "outputId": "8d5f710d-1eb8-41e5-8191-9451dad071f5"
      },
      "execution_count": null,
      "outputs": [
        {
          "output_type": "stream",
          "name": "stderr",
          "text": [
            "Using CPU. Note: This module is much faster with a GPU.\n"
          ]
        },
        {
          "output_type": "execute_result",
          "data": {
            "text/plain": [
              "[([[219, 255], [293, 255], [293, 273], [219, 273]],\n",
              "  'Kremu',\n",
              "  0.5235709461342961),\n",
              " ([[187, 293], [239, 293], [239, 309], [187, 309]],\n",
              "  '478 mg',\n",
              "  0.4281951002196792),\n",
              " ([[247, 293], [299, 293], [299, 309], [247, 309]],\n",
              "  '233 mng',\n",
              "  0.8158956063345083),\n",
              " ([[307, 293], [351, 293], [351, 309], [307, 309]],\n",
              "  '30 mg',\n",
              "  0.6034443729620821),\n",
              " ([[197, 308], [337, 308], [337, 327], [197, 327]],\n",
              "  'CHEWABLE TABLET',\n",
              "  0.8644253379517138),\n",
              " ([[173, 343], [361, 343], [361, 364], [173, 364]],\n",
              "  'ANTACID / ANTIFLATULENT',\n",
              "  0.38439178767691196),\n",
              " ([[207, 381], [329, 381], [329, 399], [207, 399]],\n",
              "  'BREAK OR CHEW',\n",
              "  0.682232168855382),\n",
              " ([[189, 392], [349, 392], [349, 412], [189, 412]],\n",
              "  'BEFORE SWALLOWING',\n",
              "  0.9799021040123748),\n",
              " ([[157, 482], [381, 482], [381, 511], [157, 511]],\n",
              "  'AlunaunMatardcorid',\n",
              "  0.0008158230275151716),\n",
              " ([[308, 506], [348, 506], [348, 514], [308, 514]],\n",
              "  'F',\n",
              "  0.0017603493897107164),\n",
              " ([[246, 515], [301, 515], [301, 530], [246, 530]],\n",
              "  'edc',\n",
              "  0.44237175188974404),\n",
              " ([[224, 548], [289, 548], [289, 566], [224, 566]],\n",
              "  'Kremil',\n",
              "  0.7628253975290947),\n",
              " ([[297, 545], [327, 545], [327, 563], [297, 563]], '50', 0.23494734644741846)]"
            ]
          },
          "metadata": {},
          "execution_count": 44
        }
      ]
    },
    {
      "cell_type": "code",
      "source": [
        "for res in result9:\n",
        "    print(res[1]) "
      ],
      "metadata": {
        "colab": {
          "base_uri": "https://localhost:8080/"
        },
        "id": "gxj3q6lBIawQ",
        "outputId": "8302dbe4-5440-4040-ff1e-dd528529b46d"
      },
      "execution_count": null,
      "outputs": [
        {
          "output_type": "stream",
          "name": "stdout",
          "text": [
            "Kremu\n",
            "478 mg\n",
            "233 mng\n",
            "30 mg\n",
            "CHEWABLE TABLET\n",
            "ANTACID / ANTIFLATULENT\n",
            "BREAK OR CHEW\n",
            "BEFORE SWALLOWING\n",
            "AlunaunMatardcorid\n",
            "F\n",
            "edc\n",
            "Kremil\n",
            "50\n"
          ]
        }
      ]
    }
  ]
}